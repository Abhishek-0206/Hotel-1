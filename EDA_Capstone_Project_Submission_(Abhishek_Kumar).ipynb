{
  "nbformat": 4,
  "nbformat_minor": 0,
  "metadata": {
    "colab": {
      "private_outputs": true,
      "provenance": [],
      "collapsed_sections": [
        "448CDAPjqfQr",
        "t6dVpIINYklI",
        "ijmpgYnKYklI",
        "-JiQyfWJYklI",
        "EM7whBJCYoAo",
        "fge-S5ZAYoAp",
        "85gYPyotYoAp",
        "RoGjAbkUYoAp",
        "4Of9eVA-YrdM",
        "iky9q4vBYrdO",
        "F6T5p64dYrdO",
        "y-Ehk30pYrdP",
        "bbFf2-_FphqN",
        "_ouA3fa0phqN",
        "Seke61FWphqN",
        "t27r6nlMphqO",
        "r2jJGEOYphqO",
        "b0JNsNcRphqO",
        "BZR9WyysphqO",
        "jj7wYXLtphqO",
        "eZrbJ2SmphqO",
        "rFu4xreNphqO",
        "YJ55k-q6phqO",
        "gCFgpxoyphqP",
        "OVtJsKN_phqQ",
        "lssrdh5qphqQ",
        "U2RJ9gkRphqQ",
        "1M8mcRywphqQ",
        "tgIPom80phqQ",
        "JMzcOPDDphqR",
        "x-EpHcCOp1ci",
        "X_VqEhTip1ck",
        "8zGJKyg5p1ck",
        "PVzmfK_Ep1ck",
        "n3dbpmDWp1ck",
        "ylSl6qgtp1ck",
        "ZWILFDl5p1ck",
        "M7G43BXep1ck",
        "Ag9LCva-p1cl",
        "E6MkPsBcp1cl",
        "2cELzS2fp1cl",
        "3MPXvC8up1cl",
        "NC_X3p0fY2L0",
        "UV0SzAkaZNRQ",
        "YPEH6qLeZNRQ",
        "q29F0dvdveiT",
        "EXh0U9oCveiU",
        "22aHeOlLveiV",
        "JcMwzZxoAimU",
        "8G2x9gOozGDZ",
        "gCX9965dhzqZ",
        "gIfDvo9L0UH2"
      ],
      "include_colab_link": true
    },
    "kernelspec": {
      "name": "python3",
      "display_name": "Python 3"
    },
    "language_info": {
      "name": "python"
    }
  },
  "cells": [
    {
      "cell_type": "markdown",
      "metadata": {
        "id": "view-in-github",
        "colab_type": "text"
      },
      "source": [
        "<a href=\"https://colab.research.google.com/github/Abhishek-0206/Hotel-1/blob/main/EDA_Capstone_Project_Submission_(Abhishek_Kumar).ipynb\" target=\"_parent\"><img src=\"https://colab.research.google.com/assets/colab-badge.svg\" alt=\"Open In Colab\"/></a>"
      ]
    },
    {
      "cell_type": "markdown",
      "source": [
        "# **Project Name**    -\n",
        "\n"
      ],
      "metadata": {
        "id": "vncDsAP0Gaoa"
      }
    },
    {
      "cell_type": "markdown",
      "source": [
        "##### **Project Type**    - EDA/Regression/Classification/Unsupervised\n",
        "##### **Contribution**    - Individual(Hotel Booking)\n",
        "##### **Team Member 1 -** Abhishek Kumar\n",
        "\n"
      ],
      "metadata": {
        "id": "beRrZCGUAJYm"
      }
    },
    {
      "cell_type": "markdown",
      "source": [
        "# **Project Summary -**"
      ],
      "metadata": {
        "id": "FJNUwmbgGyua"
      }
    },
    {
      "cell_type": "markdown",
      "source": [
        "Write the summary here within 500-600 words."
      ],
      "metadata": {
        "id": "F6v_1wHtG2nS"
      }
    },
    {
      "cell_type": "markdown",
      "source": [
        "The hotel industry thrives on understanding customer behavior and optimizing operations to maximize revenue and guest satisfaction.By leveraging data analysis and visualization techniques hoteliers can gain valuable insights into booking patterns, customer preferences, and operational efficiencies.\n",
        "\n",
        "Utilizing powerful libraries such as Pandas, Seaborn, and Matplotlib, the project enables comprehensive data collection, cleaning, and visualization. By examining booking trends, cancellation rates, lead times, and customer demographics, hoteliers can identify periods of high and low demand, enabling better resource allocation, targeted marketing, and promotional planning. Segmentation of the customer base allows for personalized marketing strategies, enhancing guest experiences and loyalty. Operational efficiency is optimized through data-driven forecasting of room occupancy, housekeeping schedules, and inventory management. Revenue management is significantly improved by analyzing the Average Daily Rate (ADR) and implementing dynamic pricing strategies, informed by the impact of booking behaviors and market trends. Additionally, predictive analytics and machine learning models can forecast future booking trends, identify potential no-shows, and optimize pricing, providing a competitive edge. By harnessing these insights, hotels can improve guest satisfaction, streamline operations, and maximize revenue, driving sustainable business growth in a competitive industry.\n"
      ],
      "metadata": {
        "id": "mh0xQYHdj5Fd"
      }
    },
    {
      "cell_type": "markdown",
      "source": [],
      "metadata": {
        "id": "MvQEnMkyj2uh"
      }
    },
    {
      "cell_type": "markdown",
      "source": [
        "# **GitHub Link -**"
      ],
      "metadata": {
        "id": "w6K7xa23Elo4"
      }
    },
    {
      "cell_type": "markdown",
      "source": [
        "Provide your GitHub Link here. https://github.com/Abhishek-0206/Hotel-Booking.git"
      ],
      "metadata": {
        "id": "h1o69JH3Eqqn"
      }
    },
    {
      "cell_type": "markdown",
      "source": [
        "# **Problem Statement**\n"
      ],
      "metadata": {
        "id": "yQaldy8SH6Dl"
      }
    },
    {
      "cell_type": "markdown",
      "source": [
        "**Write Problem statement here**:\n",
        "\n",
        "• The goal is to analyze the hotel bookings dataset to gain insights into hotel industry through.\n",
        "\n",
        "• Booking behaviors, cancellation patterns, and customer preferences.\n",
        "Specifically, we need to address the following key questions and tasks:\n",
        "\n",
        "**Cancellation Analysis**:\n",
        "\n",
        "• What are the primary factors that lead to booking cancellations?\n",
        "\n",
        "• Can we predict the likelihood of a booking being canceled based on these factors?\n",
        "\n",
        "**Booking Trends**:\n",
        "\n",
        "•What are the seasonal trends in bookings across different months and years?\n",
        "\n",
        "•How do weekend and weekday bookings compare in terms of volume and duration of stay?\n",
        "\n",
        "**Inadequate Resource Allocation**\n",
        "\n",
        "•Poor understanding of booking trends can lead to misallocation of\n",
        "resources such as staffing and inventory.\n",
        "\n",
        "•Inefficient operations, increased costs, and compromised guest experiences.\n",
        "\n",
        "**Unoptimized Pricing Strategies**:\n",
        "\n",
        "•Without proper analysis, pricing strategies may not reflect market conditions or customer willingness to pay.\n",
        "\n",
        "•This can result in either lost revenue (if prices are set too low) or reduced occupancy rates (if prices are set too high).\n",
        "\n",
        "**Operational Inefficiencies**:\n",
        "\n",
        "•Inefficient scheduling and resource management due to lack of data-driven insights.\n",
        "\n",
        "•Increased operational costs and suboptimal guest experiences.\n",
        "\n",
        "**Inaccurate Demand Forecasting**:\n",
        "\n",
        "•Inability to accurately predict future booking trends can lead to poor strategic planning.\n",
        "\n",
        "•Missed opportunities for targeted marketing and promotions, leading to reduced competitiveness.\n",
        "\n",
        "**Unoptimized Pricing Strategies**:\n",
        "\n",
        "•Without proper analysis, pricing strategies may not reflect market conditions or customer willingness to pay.\n",
        "\n",
        "•This can result in either lost revenue (if prices are set too low) or reduced occupancy rates (if prices are set too high)."
      ],
      "metadata": {
        "id": "nIWYvGbhugsn"
      }
    },
    {
      "cell_type": "markdown",
      "source": [
        "#### **Define Your Business Objective?**"
      ],
      "metadata": {
        "id": "PH-0ReGfmX4f"
      }
    },
    {
      "cell_type": "markdown",
      "source": [
        "The Business Objective behind this model is to help in the growth, development, increase in stay and collection of good revenue insight using the detail information about the Hotel Industry."
      ],
      "metadata": {
        "id": "PhDvGCAqmjP1"
      }
    },
    {
      "cell_type": "markdown",
      "source": [
        "# **General Guidelines** : -  "
      ],
      "metadata": {
        "id": "mDgbUHAGgjLW"
      }
    },
    {
      "cell_type": "markdown",
      "source": [
        "1.   Well-structured, formatted, and commented code is required.\n",
        "2.   Exception Handling, Production Grade Code & Deployment Ready Code will be a plus. Those students will be awarded some additional credits.\n",
        "     \n",
        "     The additional credits will have advantages over other students during Star Student selection.\n",
        "       \n",
        "             [ Note: - Deployment Ready Code is defined as, the whole .ipynb notebook should be executable in one go\n",
        "                       without a single error logged. ]\n",
        "\n",
        "3.   Each and every logic should have proper comments.\n",
        "4. You may add as many number of charts you want. Make Sure for each and every chart the following format should be answered.\n",
        "        \n",
        "\n",
        "```\n",
        "# Chart visualization code\n",
        "```\n",
        "            \n",
        "\n",
        "*   Why did you pick the specific chart?\n",
        "*   What is/are the insight(s) found from the chart?\n",
        "* Will the gained insights help creating a positive business impact?\n",
        "Are there any insights that lead to negative growth? Justify with specific reason.\n",
        "\n",
        "\n",
        "5. You have to create at least 20 logical & meaningful charts having important insights.\n",
        "\n",
        "[ Hints : - Do the Vizualization in  a structured way while following \"UBM\" Rule.\n",
        "\n",
        "U - Univariate Analysis,\n",
        "\n",
        "B - Bivariate Analysis (Numerical - Categorical, Numerical - Numerical, Categorical - Categorical)\n",
        "\n",
        "M - Multivariate Analysis\n",
        " ]\n",
        "\n",
        "\n",
        "\n",
        "\n",
        "\n"
      ],
      "metadata": {
        "id": "ZrxVaUj-hHfC"
      }
    },
    {
      "cell_type": "markdown",
      "source": [
        "# ***Let's Begin !***"
      ],
      "metadata": {
        "id": "O_i_v8NEhb9l"
      }
    },
    {
      "cell_type": "markdown",
      "source": [
        "## ***1. Know Your Data***"
      ],
      "metadata": {
        "id": "HhfV-JJviCcP"
      }
    },
    {
      "cell_type": "markdown",
      "source": [
        "### Import Libraries"
      ],
      "metadata": {
        "id": "Y3lxredqlCYt"
      }
    },
    {
      "cell_type": "code",
      "source": [
        "# Import Libraries\n",
        "import numpy as np\n",
        "import pandas as pd\n",
        "import matplotlib as plt\n",
        "import seaborn as sns\n",
        "import matplotlib.pyplot as plt\n",
        "from numpy import loadtxt\n",
        "from matplotlib import rcParams"
      ],
      "metadata": {
        "id": "M8Vqi-pPk-HR"
      },
      "execution_count": null,
      "outputs": []
    },
    {
      "cell_type": "code",
      "source": [
        "from google.colab import drive\n",
        "drive.mount('/content/drive')"
      ],
      "metadata": {
        "id": "Cy9WiAhWL2BB"
      },
      "execution_count": null,
      "outputs": []
    },
    {
      "cell_type": "markdown",
      "source": [
        "### Dataset Loading"
      ],
      "metadata": {
        "id": "3RnN4peoiCZX"
      }
    },
    {
      "cell_type": "code",
      "source": [
        "# Load Dataset\n",
        "dataset = pd.read_excel(\"/content/drive/MyDrive/Colab Notebooks/Data Set/Hotel Bookings.xlsx\", engine='openpyxl')"
      ],
      "metadata": {
        "id": "4CkvbW_SlZ_R"
      },
      "execution_count": null,
      "outputs": []
    },
    {
      "cell_type": "code",
      "source": [
        "df = pd.read_excel(\"/content/drive/MyDrive/Colab Notebooks/Data Set/Hotel Bookings.xlsx\", engine='openpyxl')"
      ],
      "metadata": {
        "id": "o-8UgzQEWE99"
      },
      "execution_count": null,
      "outputs": []
    },
    {
      "cell_type": "markdown",
      "source": [
        "### Dataset First View"
      ],
      "metadata": {
        "id": "x71ZqKXriCWQ"
      }
    },
    {
      "cell_type": "code",
      "source": [
        "# Dataset First Look\n",
        "dataset.head()"
      ],
      "metadata": {
        "id": "LWNFOSvLl09H"
      },
      "execution_count": null,
      "outputs": []
    },
    {
      "cell_type": "code",
      "source": [
        "dataset = dataset[dataset['company'].notna()]\n",
        "dataset"
      ],
      "metadata": {
        "id": "rjotiQzf8hfW"
      },
      "execution_count": null,
      "outputs": []
    },
    {
      "cell_type": "markdown",
      "source": [
        "### Dataset Rows & Columns count"
      ],
      "metadata": {
        "id": "7hBIi_osiCS2"
      }
    },
    {
      "cell_type": "code",
      "source": [
        "# Dataset Rows & Columns count\n",
        "dataset.shape"
      ],
      "metadata": {
        "id": "Kllu7SJgmLij"
      },
      "execution_count": null,
      "outputs": []
    },
    {
      "cell_type": "code",
      "source": [
        "dataset.columns"
      ],
      "metadata": {
        "id": "Zvv-8mV83cQW"
      },
      "execution_count": null,
      "outputs": []
    },
    {
      "cell_type": "markdown",
      "source": [
        "### Dataset Information"
      ],
      "metadata": {
        "id": "JlHwYmJAmNHm"
      }
    },
    {
      "cell_type": "code",
      "source": [
        "# Dataset Info\n",
        "dataset.info()"
      ],
      "metadata": {
        "id": "e9hRXRi6meOf"
      },
      "execution_count": null,
      "outputs": []
    },
    {
      "cell_type": "markdown",
      "source": [
        "#### Duplicate Values"
      ],
      "metadata": {
        "id": "35m5QtbWiB9F"
      }
    },
    {
      "cell_type": "code",
      "source": [
        "# Dataset Duplicate Value Count\n",
        "len(dataset[dataset.duplicated()])"
      ],
      "metadata": {
        "id": "1sLdpKYkmox0"
      },
      "execution_count": null,
      "outputs": []
    },
    {
      "cell_type": "code",
      "source": [
        "# In complete data set\n",
        "dataset_duplicates = dataset.duplicated()\n",
        "total_duplicate_value = dataset_duplicates.sum()\n",
        "print(\"Total Duplicate Rows are:\", total_duplicate_value)"
      ],
      "metadata": {
        "id": "c0Gblon24U74"
      },
      "execution_count": null,
      "outputs": []
    },
    {
      "cell_type": "code",
      "source": [
        "dataset['hotel'].value_counts().sum()"
      ],
      "metadata": {
        "id": "PAiUrvp75HTz"
      },
      "execution_count": null,
      "outputs": []
    },
    {
      "cell_type": "markdown",
      "source": [
        "#### Missing Values/Null Values"
      ],
      "metadata": {
        "id": "PoPl-ycgm1ru"
      }
    },
    {
      "cell_type": "code",
      "source": [
        "# Missing Values/Null Values Count\n",
        "dataset_null_values = dataset.isnull().sum()\n",
        "dataset_null_values"
      ],
      "metadata": {
        "id": "GgHWkxvamxVg"
      },
      "execution_count": null,
      "outputs": []
    },
    {
      "cell_type": "code",
      "source": [
        "# Calculate the percentage of missing values cloumn-wise\n",
        "missing_values_percentage = (dataset_null_values / len(dataset)) * 100\n",
        "print(\"Percentage of missing values column-wise:\")\n",
        "print(missing_values_percentage)"
      ],
      "metadata": {
        "id": "j47jRRlHTqb4"
      },
      "execution_count": null,
      "outputs": []
    },
    {
      "cell_type": "code",
      "source": [
        "# Visualizing the missing values\n",
        "sns.heatmap(dataset.isnull(), cbar=False)"
      ],
      "metadata": {
        "id": "3q5wnI3om9sJ"
      },
      "execution_count": null,
      "outputs": []
    },
    {
      "cell_type": "markdown",
      "source": [
        "### What did you know about your dataset?"
      ],
      "metadata": {
        "id": "H0kj-8xxnORC"
      }
    },
    {
      "cell_type": "markdown",
      "source": [
        "Answer- The Dataset given here is the dataset of Hotel Booking, and we have to analysis"
      ],
      "metadata": {
        "id": "gfoNAAC-nUe_"
      }
    },
    {
      "cell_type": "markdown",
      "source": [
        "## ***2. Understanding Your Variables***"
      ],
      "metadata": {
        "id": "nA9Y7ga8ng1Z"
      }
    },
    {
      "cell_type": "code",
      "source": [
        "# Dataset Columns\n",
        "dataset.columns"
      ],
      "metadata": {
        "id": "j7xfkqrt5Ag5"
      },
      "execution_count": null,
      "outputs": []
    },
    {
      "cell_type": "code",
      "source": [
        "# Dataset Describe\n",
        "dataset.describe(include='all')"
      ],
      "metadata": {
        "id": "DnOaZdaE5Q5t"
      },
      "execution_count": null,
      "outputs": []
    },
    {
      "cell_type": "markdown",
      "source": [
        "### Variables Description"
      ],
      "metadata": {
        "id": "PBTbrJXOngz2"
      }
    },
    {
      "cell_type": "markdown",
      "source": [
        "Answer Here"
      ],
      "metadata": {
        "id": "aJV4KIxSnxay"
      }
    },
    {
      "cell_type": "markdown",
      "source": [
        "### Check Unique Values for each variable."
      ],
      "metadata": {
        "id": "u3PMJOP6ngxN"
      }
    },
    {
      "cell_type": "code",
      "source": [
        "# Check Unique Values for each variable.\n",
        "for i in dataset.columns.tolist():\n",
        "  print(\"No. of unique values in \",i,\"is\",dataset[i].nunique(),\".\")"
      ],
      "metadata": {
        "id": "zms12Yq5n-jE"
      },
      "execution_count": null,
      "outputs": []
    },
    {
      "cell_type": "markdown",
      "source": [
        "## 3. ***Data Wrangling***"
      ],
      "metadata": {
        "id": "dauF4eBmngu3"
      }
    },
    {
      "cell_type": "markdown",
      "source": [
        "### Data Wrangling Code"
      ],
      "metadata": {
        "id": "bKJF3rekwFvQ"
      }
    },
    {
      "cell_type": "code",
      "source": [
        "df['reservation_month'] = df['reservation_status_date'].dt.month\n",
        "monthwise_reservation = df['reservation_month'].value_counts().sort_index()\n",
        "print(monthwise_reservation)"
      ],
      "metadata": {
        "id": "SzUjfnk45pFx"
      },
      "execution_count": null,
      "outputs": []
    },
    {
      "cell_type": "code",
      "source": [
        "colors = ['red', 'blue', 'green', 'yellow', 'pink', 'brown', 'purple', 'silver', 'skyblue', 'orange', 'grey', 'violet']\n",
        "monthwise_reservation.plot(kind='bar', figsize=(10,6), color=colors)\n",
        "plt.title('Month-wise Reservations')\n",
        "plt.xlabel('Month')\n",
        "plt.ylabel('Number of Reservations')\n",
        "plt.show()"
      ],
      "metadata": {
        "id": "1TRucXJ69WE2"
      },
      "execution_count": null,
      "outputs": []
    },
    {
      "cell_type": "code",
      "source": [
        "is_cancel_month_wise = df.groupby(['is_canceled', 'df_reservation_month_wise'])['df_reservation_month_wise'].count().unstack()\n",
        "is_cancel_month_wise"
      ],
      "metadata": {
        "id": "3SsB2mtkPlGy"
      },
      "execution_count": null,
      "outputs": []
    },
    {
      "cell_type": "code",
      "source": [
        "is_cancel_month_wise.plot(kind='bar', figsize=(10,6))\n",
        "plt.title('Month-wise Reservations by Cancellation Status')\n",
        "plt.xlabel('Month')\n",
        "plt.ylabel('Number of Reservations')\n",
        "plt.legend(title='Is Canceled')\n",
        "plt.show()"
      ],
      "metadata": {
        "id": "1g-lzxPn-7Xi"
      },
      "execution_count": null,
      "outputs": []
    },
    {
      "cell_type": "markdown",
      "source": [
        "# In this Bar Graph.\n",
        "*  **0 stands for Not Cancelled Reservations**.\n",
        "*  **1 stands for Cancelled Reservations**.\n",
        "\n",
        "\n"
      ],
      "metadata": {
        "id": "GO-BVTGEAdmH"
      }
    },
    {
      "source": [
        "# title Trend of Cancellations Over Months\n",
        "months = ['01', '02', '03', '04', '05', '06', '07', '08', '09', '10', '11', '12']\n",
        "cancellations = [6061, 4358, 3820, 3470, 3138, 2912, 4369, 2688, 2676, 4145, 3060, 3527]\n",
        "\n",
        "plt.plot(months, cancellations)\n",
        "plt.xlabel('Month')\n",
        "plt.ylabel('Number of Cancellations')\n",
        "plot= plt.title('Trend of Cancellations Over Months')\n"
      ],
      "cell_type": "code",
      "execution_count": null,
      "outputs": [],
      "metadata": {
        "id": "TpWpm0X3RnVx"
      }
    },
    {
      "cell_type": "markdown",
      "source": [
        "### What all manipulations have you done and insights you found?"
      ],
      "metadata": {
        "id": "MSa1f5Uengrz"
      }
    },
    {
      "cell_type": "markdown",
      "source": [
        "\n",
        "To find the monthly reservations, we need to perform a series of data manipulations. Specifically, we will aggregate the data based on the arrival_date_month column to count the number of reservations per month. Here are the steps:\n",
        "\n",
        "Convert arrival_date_month to a categorical type with the correct month order.\n",
        "Group the data by arrival_date_month and count the number of reservations.\n",
        "Visualize the monthly reservations.\n"
      ],
      "metadata": {
        "id": "3rkMdTNujnSs"
      }
    },
    {
      "cell_type": "markdown",
      "source": [
        "## ***4. Data Vizualization, Storytelling & Experimenting with charts : Understand the relationships between variables***"
      ],
      "metadata": {
        "id": "GF8Ens_Soomf"
      }
    },
    {
      "cell_type": "markdown",
      "source": [
        "#### Chart - 1- Pie Chart Distribution of bookings between Resort Hotel and City Hotel"
      ],
      "metadata": {
        "id": "0wOQAZs5pc--"
      }
    },
    {
      "cell_type": "code",
      "source": [
        "# Chart - 1 visualization code\n",
        "# Pie plot for hotel distribution\n",
        "hotel_counts = df['hotel'].value_counts()\n",
        "plt.figure(figsize=(7, 7))\n",
        "plt.pie(hotel_counts, labels=hotel_counts.index, autopct='%1.1f%%', startangle=140)\n",
        "plt.title('Distribution of Bookings by Hotel Type')\n",
        "plt.show()\n"
      ],
      "metadata": {
        "id": "7v_ESjsspbW7"
      },
      "execution_count": null,
      "outputs": []
    },
    {
      "cell_type": "markdown",
      "source": [
        "##### 1. Why did you pick the specific chart?"
      ],
      "metadata": {
        "id": "K5QZ13OEpz2H"
      }
    },
    {
      "cell_type": "markdown",
      "source": [
        "Answer Here. A pie chart is suitable for showing proportions of a whole.\n",
        "It quickly gives a visual comparison of the different hotel types' booking shares."
      ],
      "metadata": {
        "id": "XESiWehPqBRc"
      }
    },
    {
      "cell_type": "markdown",
      "source": [
        "##### 2. What is/are the insight(s) found from the chart?"
      ],
      "metadata": {
        "id": "lQ7QKXXCp7Bj"
      }
    },
    {
      "cell_type": "markdown",
      "source": [
        "If bookings are evenly split or if one type dominates, this can indicate which type of hotel is more popular."
      ],
      "metadata": {
        "id": "AX68RiudlEeC"
      }
    },
    {
      "cell_type": "markdown",
      "source": [
        "Answer Here"
      ],
      "metadata": {
        "id": "C_j1G7yiqdRP"
      }
    },
    {
      "cell_type": "markdown",
      "source": [
        "##### 3. Will the gained insights help creating a positive business impact?\n",
        "Are there any insights that lead to negative growth? Justify with specific reason."
      ],
      "metadata": {
        "id": "448CDAPjqfQr"
      }
    },
    {
      "cell_type": "markdown",
      "source": [
        "Answer Here - Positive: Understanding the popularity can help in focusing marketing efforts and resource allocation towards the more popular hotel type.\n",
        "Negative: Over-dependence on one hotel type could be risky if customer preferences change suddenly."
      ],
      "metadata": {
        "id": "3cspy4FjqxJW"
      }
    },
    {
      "cell_type": "markdown",
      "source": [
        "#### Chart - 2 -Bar Plot-Number of bookings per month"
      ],
      "metadata": {
        "id": "KSlN3yHqYklG"
      }
    },
    {
      "cell_type": "code",
      "source": [
        "# Chart - 2 visualization code\n",
        "# Bar plot for number of bookings per month\n",
        "plt.figure(figsize=(12, 6))\n",
        "sns.countplot(x='arrival_date_month', data=df, order=['January', 'February', 'March', 'April', 'May', 'June', 'July', 'August', 'September', 'October', 'November', 'December'])\n",
        "plt.title('Number of Bookings per Month')\n",
        "plt.xlabel('Month')\n",
        "plt.ylabel('Number of Bookings')\n",
        "plt.show()\n"
      ],
      "metadata": {
        "id": "R4YgtaqtYklH"
      },
      "execution_count": null,
      "outputs": []
    },
    {
      "cell_type": "markdown",
      "source": [
        "##### 1. Why did you pick the specific chart?"
      ],
      "metadata": {
        "id": "t6dVpIINYklI"
      }
    },
    {
      "cell_type": "markdown",
      "source": [
        "Answer Here. Bar plots are great for comparing quantities across different categories."
      ],
      "metadata": {
        "id": "5aaW0BYyYklI"
      }
    },
    {
      "cell_type": "markdown",
      "source": [
        "##### 2. What is/are the insight(s) found from the chart?"
      ],
      "metadata": {
        "id": "ijmpgYnKYklI"
      }
    },
    {
      "cell_type": "markdown",
      "source": [
        "Answer Here. Identifies seasonal trends in bookings."
      ],
      "metadata": {
        "id": "PSx9atu2YklI"
      }
    },
    {
      "cell_type": "markdown",
      "source": [
        "##### 3. Will the gained insights help creating a positive business impact?\n",
        "Are there any insights that lead to negative growth? Justify with specific reason."
      ],
      "metadata": {
        "id": "-JiQyfWJYklI"
      }
    },
    {
      "cell_type": "markdown",
      "source": [
        "Answer Here. Positive: Allows for seasonal marketing strategies and resource planning (e.g., staffing, inventory).\n",
        "\n",
        "Negative: Lack of bookings during certain months might indicate a need for promotional offers to attract guests."
      ],
      "metadata": {
        "id": "BcBbebzrYklV"
      }
    },
    {
      "cell_type": "markdown",
      "source": [
        "#### Chart - 3- Line Plot- Average daily rate (ADR) over the months"
      ],
      "metadata": {
        "id": "EM7whBJCYoAo"
      }
    },
    {
      "cell_type": "code",
      "source": [
        "# Chart - 3 visualization code\n",
        "# Line plot for ADR over the months\n",
        "monthly_adr = df.groupby('arrival_date_month')['adr'].mean().reindex(['January', 'February', 'March', 'April', 'May', 'June', 'July', 'August', 'September', 'October', 'November', 'December'])\n",
        "plt.figure(figsize=(12, 6))\n",
        "plt.plot(monthly_adr, marker='o')\n",
        "plt.title('Average Daily Rate (ADR) Over the Months')\n",
        "plt.xlabel('Month')\n",
        "plt.ylabel('ADR')\n",
        "plt.grid(True)\n",
        "plt.show()\n",
        "\n"
      ],
      "metadata": {
        "id": "t6GMdE67YoAp"
      },
      "execution_count": null,
      "outputs": []
    },
    {
      "cell_type": "markdown",
      "source": [
        "##### 1. Why did you pick the specific chart?"
      ],
      "metadata": {
        "id": "fge-S5ZAYoAp"
      }
    },
    {
      "cell_type": "markdown",
      "source": [
        "Answer Here. Line plots show trends over a period, ideal for time-series data."
      ],
      "metadata": {
        "id": "5dBItgRVYoAp"
      }
    },
    {
      "cell_type": "markdown",
      "source": [
        "##### 2. What is/are the insight(s) found from the chart?"
      ],
      "metadata": {
        "id": "85gYPyotYoAp"
      }
    },
    {
      "cell_type": "markdown",
      "source": [
        "Answer Here. Shows how ADR varies throughout the year."
      ],
      "metadata": {
        "id": "4jstXR6OYoAp"
      }
    },
    {
      "cell_type": "markdown",
      "source": [
        "##### 3. Will the gained insights help creating a positive business impact?\n",
        "Are there any insights that lead to negative growth? Justify with specific reason."
      ],
      "metadata": {
        "id": "RoGjAbkUYoAp"
      }
    },
    {
      "cell_type": "markdown",
      "source": [
        "Answer Here. Positive: Helps in pricing strategies. Higher ADR periods could mean higher demand; thus, premium pricing can be applied.\n",
        "Negative: A significant drop in ADR during certain periods could indicate low demand, necessitating discounts or promotions to attract customers."
      ],
      "metadata": {
        "id": "zfJ8IqMcYoAp"
      }
    },
    {
      "cell_type": "markdown",
      "source": [
        "#### Chart - 4- Scatter Plot - Lead time vs. ADR"
      ],
      "metadata": {
        "id": "4Of9eVA-YrdM"
      }
    },
    {
      "cell_type": "code",
      "source": [
        "# Chart - 4 visualization code\n",
        "# Scatter plot for lead time vs. ADR\n",
        "plt.figure(figsize=(12, 6))\n",
        "colors = sns.color_palette(\"husl\", n_colors=len(df))\n",
        "sns.scatterplot(x='lead_time', y='adr', data=df, alpha=0.5, c=colors)\n",
        "plt.title('Lead Time vs. ADR')\n",
        "plt.xlabel('Lead Time (days)')\n",
        "plt.ylabel('ADR')\n",
        "plt.show()\n"
      ],
      "metadata": {
        "id": "irlUoxc8YrdO"
      },
      "execution_count": null,
      "outputs": []
    },
    {
      "cell_type": "markdown",
      "source": [
        "##### 1. Why did you pick the specific chart?"
      ],
      "metadata": {
        "id": "iky9q4vBYrdO"
      }
    },
    {
      "cell_type": "markdown",
      "source": [
        "Answer Here.Scatter plots reveal the relationship between two variables."
      ],
      "metadata": {
        "id": "aJRCwT6DYrdO"
      }
    },
    {
      "cell_type": "markdown",
      "source": [
        "##### 2. What is/are the insight(s) found from the chart?"
      ],
      "metadata": {
        "id": "F6T5p64dYrdO"
      }
    },
    {
      "cell_type": "markdown",
      "source": [
        "Answer Here. Visualizes if longer lead times correlate with higher or lower ADR."
      ],
      "metadata": {
        "id": "Xx8WAJvtYrdO"
      }
    },
    {
      "cell_type": "markdown",
      "source": [
        "##### 3. Will the gained insights help creating a positive business impact?\n",
        "Are there any insights that lead to negative growth? Justify with specific reason."
      ],
      "metadata": {
        "id": "y-Ehk30pYrdP"
      }
    },
    {
      "cell_type": "markdown",
      "source": [
        "Answer Here. Positive: Identifying this relationship can help optimize pricing strategies for early and late bookings.\n",
        "Negative: If a negative trend is found, it may suggest customers booking early are expecting discounts, potentially reducing revenue if not managed properly."
      ],
      "metadata": {
        "id": "jLNxxz7MYrdP"
      }
    },
    {
      "cell_type": "markdown",
      "source": [
        "#### Chart - 5- Pair Plot - Pair plot for selected features"
      ],
      "metadata": {
        "id": "bamQiAODYuh1"
      }
    },
    {
      "cell_type": "code",
      "source": [
        "# Chart - 10 visualization code\n",
        "# Pair plot for selected features\n",
        "selected_features = ['lead_time', 'adr', 'stays_in_weekend_nights', 'stays_in_week_nights', 'total_of_special_requests']\n",
        "sns.pairplot(df[selected_features+ ['is_canceled']], hue='is_canceled', palette='Set1')\n",
        "plt.suptitle('Pair Plot for Selected Features', y=1.02)\n",
        "plt.show()\n"
      ],
      "metadata": {
        "id": "GM7a4YP4phqQ"
      },
      "execution_count": null,
      "outputs": []
    },
    {
      "cell_type": "markdown",
      "source": [
        "##### 1. Why did you pick the specific chart?"
      ],
      "metadata": {
        "id": "1M8mcRywphqQ"
      }
    },
    {
      "cell_type": "markdown",
      "source": [
        "Answer Here. Pair plots show pairwise relationships in a dataset, combining scatter plots and histograms."
      ],
      "metadata": {
        "id": "8agQvks0phqQ"
      }
    },
    {
      "cell_type": "markdown",
      "source": [
        "##### 2. What is/are the insight(s) found from the chart?"
      ],
      "metadata": {
        "id": "tgIPom80phqQ"
      }
    },
    {
      "cell_type": "markdown",
      "source": [
        "Answer Here. Offers a comprehensive view of how selected features interact with each other."
      ],
      "metadata": {
        "id": "Qp13pnNzphqQ"
      }
    },
    {
      "cell_type": "markdown",
      "source": [
        "##### 3. Will the gained insights help creating a positive business impact?\n",
        "Are there any insights that lead to negative growth? Justify with specific reason."
      ],
      "metadata": {
        "id": "JMzcOPDDphqR"
      }
    },
    {
      "cell_type": "markdown",
      "source": [
        "Answer Here. Positive: Helps identify multiple relationships simultaneously, useful for multivariate analysis.\n",
        "Negative: Overlapping trends might indicate areas where more differentiation is needed in service offerings."
      ],
      "metadata": {
        "id": "R4Ka1PC2phqR"
      }
    },
    {
      "cell_type": "markdown",
      "source": [
        "#### Chart - 6 - Box Plot - Lead time distribution for canceled and non-canceled bookings"
      ],
      "metadata": {
        "id": "x-EpHcCOp1ci"
      }
    },
    {
      "cell_type": "code",
      "source": [
        "# Chart - 6 visualization code\n",
        "# Box plot for lead time distribution for canceled and non-canceled bookings\n",
        "plt.figure(figsize=(10, 6))\n",
        "sns.boxplot(x='is_canceled', y='lead_time', data=df)\n",
        "plt.title('Lead Time Distribution for Canceled and Non-Canceled Bookings')\n",
        "plt.xlabel('Booking Canceled')\n",
        "plt.ylabel('Lead Time (days)')\n",
        "plt.show()\n"
      ],
      "metadata": {
        "id": "mAQTIvtqp1cj"
      },
      "execution_count": null,
      "outputs": []
    },
    {
      "cell_type": "markdown",
      "source": [
        "##### 1. Why did you pick the specific chart?"
      ],
      "metadata": {
        "id": "X_VqEhTip1ck"
      }
    },
    {
      "cell_type": "markdown",
      "source": [
        "Answer Here. Box plots are effective for comparing distributions between groups."
      ],
      "metadata": {
        "id": "-vsMzt_np1ck"
      }
    },
    {
      "cell_type": "markdown",
      "source": [
        "##### 2. What is/are the insight(s) found from the chart?"
      ],
      "metadata": {
        "id": "8zGJKyg5p1ck"
      }
    },
    {
      "cell_type": "markdown",
      "source": [
        "Answer Here. Shows how lead time varies between canceled and non-canceled bookings."
      ],
      "metadata": {
        "id": "ZYdMsrqVp1ck"
      }
    },
    {
      "cell_type": "markdown",
      "source": [
        "##### 3. Will the gained insights help creating a positive business impact?\n",
        "Are there any insights that lead to negative growth? Justify with specific reason."
      ],
      "metadata": {
        "id": "PVzmfK_Ep1ck"
      }
    },
    {
      "cell_type": "markdown",
      "source": [
        "Answer Here. Positive: Understanding this can help in adjusting policies to reduce cancellations, such as stricter cancellation policies for longer lead times.\n",
        "Negative: If many cancellations are linked to long lead times, it could indicate issues with booking confidence or customer satisfaction."
      ],
      "metadata": {
        "id": "druuKYZpp1ck"
      }
    },
    {
      "cell_type": "markdown",
      "source": [
        "#### Chart - 7 - Heat Map - Correlation matrix of numerical features"
      ],
      "metadata": {
        "id": "n3dbpmDWp1ck"
      }
    },
    {
      "cell_type": "code",
      "source": [
        "# Chart - visualization code\n",
        "# Heat map for correlation matrix\n",
        "plt.figure(figsize=(12, 6))\n",
        "# Calculate correlation matrix only for numerical columns\n",
        "corr_matrix = df.select_dtypes(include=['number']).corr()\n",
        "sns.heatmap(corr_matrix, annot=True, cmap='coolwarm', fmt='.2f')\n",
        "plt.title('Correlation Matrix')\n",
        "plt.show()"
      ],
      "metadata": {
        "id": "8OU45KSPCQPn"
      },
      "execution_count": null,
      "outputs": []
    },
    {
      "cell_type": "markdown",
      "source": [
        "##### 1. Why did you pick the specific chart?"
      ],
      "metadata": {
        "id": "ylSl6qgtp1ck"
      }
    },
    {
      "cell_type": "markdown",
      "source": [
        "Answer Here. Heat maps are effective for visualizing the strength of relationships between multiple variables."
      ],
      "metadata": {
        "id": "m2xqNkiQp1ck"
      }
    },
    {
      "cell_type": "markdown",
      "source": [
        "##### 2. What is/are the insight(s) found from the chart?"
      ],
      "metadata": {
        "id": "ZWILFDl5p1ck"
      }
    },
    {
      "cell_type": "markdown",
      "source": [
        "Answer Here. Highlights which variables are strongly correlated, such as lead time and cancellation rates."
      ],
      "metadata": {
        "id": "x-lUsV2mp1ck"
      }
    },
    {
      "cell_type": "markdown",
      "source": [
        "##### 3. Will the gained insights help creating a positive business impact?\n",
        "Are there any insights that lead to negative growth? Justify with specific reason."
      ],
      "metadata": {
        "id": "M7G43BXep1ck"
      }
    },
    {
      "cell_type": "markdown",
      "source": [
        "Answer Here. Positive: Helps in identifying key factors affecting important metrics like cancellations, leading to more informed decision-making.\n",
        "Negative: High correlations between unwanted factors (e.g., high lead time leading to high cancellations) may require addressing to avoid revenue loss."
      ],
      "metadata": {
        "id": "5wwDJXsLp1cl"
      }
    },
    {
      "cell_type": "markdown",
      "source": [
        "## **5. Solution to Business Objective**"
      ],
      "metadata": {
        "id": "JcMwzZxoAimU"
      }
    },
    {
      "cell_type": "markdown",
      "source": [],
      "metadata": {
        "id": "i17Mp8kvqhuT"
      }
    },
    {
      "cell_type": "markdown",
      "source": [
        "#### What do you suggest the client to achieve Business Objective ?\n",
        "Explain Briefly.\n",
        "1. Understand and Predict Customer Behavior:\n",
        "\n",
        "Action: Implement advanced predictive analytics and machine learning models.\n",
        "\n",
        "Goal: Forecast future booking trends, identify potential no-shows, and predict customer preferences.\n",
        "\n",
        "Benefit: Better anticipation of guest needs, leading to improved guest satisfaction and higher loyalty rates.\n",
        "\n",
        "2. Optimize Resource Allocation:\n",
        "\n",
        "Action: Analyze booking trends to identify periods of high and low demand.\n",
        "\n",
        "Goal: Adjust staffing levels, housekeeping schedules, and inventory management accordingly.\n",
        "\n",
        "Benefit: Enhanced operational efficiency, reduced labor costs, and better service quality during peak periods.\n",
        "\n",
        "3. Enhance Revenue Management:\n",
        "\n",
        "Action: Regularly analyze ADR (Average Daily Rate) across different times of the year.\n",
        "\n",
        "Goal: Implement dynamic pricing strategies to maximize revenue based on demand.\n",
        "\n",
        "Benefit: Increased revenue through optimized pricing, capturing maximum value during high-demand periods.\n",
        "\n",
        "4. Targeted Marketing and Promotions:\n",
        "\n",
        "Action: Segment the customer base based on booking behavior, demographics, and preferences.\n",
        "\n",
        "Goal: Design and execute personalized marketing campaigns and promotions.\n",
        "\n",
        "Benefit: Higher conversion rates, improved guest engagement, and increased loyalty.\n",
        "\n",
        "5. Improve Cancellation Policies:\n",
        "\n",
        "Action: Analyze lead times and cancellation rates to identify patterns.\n",
        "\n",
        "Goal: Adjust cancellation policies to reduce last-minute cancellations.\n",
        "\n",
        "Benefit: Greater booking stability and reduced revenue loss from cancellations.\n",
        "\n",
        "6. Boost Guest Satisfaction:\n",
        "\n",
        "Action: Use data to identify factors contributing to guest satisfaction and dissatisfaction.\n",
        "\n",
        "Goal: Implement changes to enhance guest experiences.\n",
        "\n",
        "Benefit: Higher guest satisfaction scores, positive reviews, and repeat business.\n",
        "\n",
        "7. Leverage Predictive Analytics:\n",
        "\n",
        "Action: Develop and deploy predictive models for room occupancy and pricing.\n",
        "\n",
        "Goal: Optimize room rates and occupancy levels.\n",
        "\n",
        "Benefit: Maximized revenue and improved operational efficiency.\n",
        "\n",
        "8. Streamline Operations:\n",
        "\n",
        "Action: Utilize data to forecast housekeeping schedules and other operational activities.\n",
        "\n",
        "Goal: Ensure timely and efficient service delivery.\n",
        "\n",
        "Benefit: Reduced operational costs and improved guest experience.\n",
        "\n",
        "9. Monitor and Adapt to Market Trends:\n",
        "\n",
        "Action: Continuously monitor market trends and competitor activities using data analytics.\n",
        "\n",
        "Goal: Adapt marketing, pricing, and service strategies in real-time.\n",
        "\n",
        "Benefit: Maintain competitive edge and agility in responding to market changes."
      ],
      "metadata": {
        "id": "8G2x9gOozGDZ"
      }
    },
    {
      "cell_type": "markdown",
      "source": [
        "# **Conclusion**"
      ],
      "metadata": {
        "id": "gCX9965dhzqZ"
      }
    },
    {
      "cell_type": "markdown",
      "source": [
        "* The analysis of the dataset has provided several insights that can cen be valuable for business decisions.Here are some key conclusions.\n",
        "1. Booking Trends.\n",
        "\n",
        "There are clear patterns in booking and cancellation rates across different months and market segments.This information can be used to optimize pricing and marketing strategies based on seasonal trends and segment performance.\n",
        "\n",
        "2. Customer Segmentation.\n",
        "\n",
        "Understanding customer types and their booking behaviours can help trailor services and promotions to different segment,potentially increasing customer statisfaction and loyalty.\n",
        "\n",
        "3. Hotel Performance.\n",
        "\n",
        "Analysis or hotel types and their amentites, such as special request, can help identity areas for improvement and investment to enhance customer experience.\n",
        "\n",
        "4. Financial Impact.\n",
        "\n",
        "By analyzing correlation between different features, such as lead time and booking changes, hotels can optimize resources allocation and pricing strategies to maximize revenue and minimize cancellations.\n",
        "\n",
        "5. Data Visualization.\n",
        "\n",
        "Effective data visualization, such as bar charts, pie chart, and heatmaps, can help communicate complex information clearly and facilitate decision-making processes.\n",
        "\n",
        "\n"
      ],
      "metadata": {
        "id": "7B2hOV-50GJQ"
      }
    },
    {
      "cell_type": "markdown",
      "source": [
        "### ***Hurrah! You have successfully completed your EDA Capstone Project !!!***"
      ],
      "metadata": {
        "id": "gIfDvo9L0UH2"
      }
    }
  ]
}